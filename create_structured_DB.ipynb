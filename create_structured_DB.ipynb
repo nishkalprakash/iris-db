{
 "cells": [
  {
   "cell_type": "markdown",
   "id": "065f6ac7",
   "metadata": {},
   "source": [
    "# Create a structured database for the Iris dataset"
   ]
  },
  {
   "cell_type": "markdown",
   "id": "16d787a8",
   "metadata": {},
   "source": [
    "### Common Imports"
   ]
  },
  {
   "cell_type": "code",
   "execution_count": 1,
   "id": "e399ccff",
   "metadata": {},
   "outputs": [],
   "source": [
    "import sys\n",
    "from pathlib import Path\n",
    "\n",
    "# TODO: move common imports to vars\n",
    "# sys.path.append(str(Path(__file__).parent))\n",
    "# from vars import *\n",
    "from sys import platform\n",
    "MONGO_DB_NAME = \"iris-db\"\n",
    "DB_IP = \"10.171.18.104\"\n",
    "\n",
    "if platform == \"linux\":\n",
    "    DB_IP = \"localhost\"\n",
    "\n",
    "from pymongo import MongoClient, collection, ASCENDING"
   ]
  },
  {
   "cell_type": "code",
   "execution_count": 2,
   "id": "228ca1c1",
   "metadata": {},
   "outputs": [],
   "source": [
    "def ensure_exists(path):\n",
    "    if not path.exists():\n",
    "        path.mkdir(parents=True, exist_ok=True)"
   ]
  },
  {
   "cell_type": "code",
   "execution_count": 3,
   "id": "6dec3715",
   "metadata": {},
   "outputs": [],
   "source": [
    "DB_BASE_ = Path(\"~/datasets/iris-db/\").expanduser()\n",
    "ensure_exists(DB_BASE_)"
   ]
  },
  {
   "cell_type": "code",
   "execution_count": 4,
   "id": "0c3fc067",
   "metadata": {},
   "outputs": [],
   "source": [
    "META_COLL = \"meta\""
   ]
  },
  {
   "cell_type": "markdown",
   "id": "db6162f0",
   "metadata": {},
   "source": [
    "## WORKING FOR CASIA-V1"
   ]
  },
  {
   "cell_type": "markdown",
   "id": "12dbdd6f",
   "metadata": {},
   "source": [
    "### Copying to structured folder and adding to mongodb as well"
   ]
  },
  {
   "cell_type": "code",
   "execution_count": 5,
   "id": "03f4dad9",
   "metadata": {},
   "outputs": [],
   "source": [
    "# DB_BASE_\n",
    "DB_NAME = \"CASIA-V1\"\n",
    "DB_NAME_ = Path(DB_NAME)\n",
    "DB_PATH_ = DB_BASE_ / DB_NAME_\n",
    "ensure_exists(DB_PATH_)\n",
    "\n",
    "META_DB = \"meta-db\""
   ]
  },
  {
   "cell_type": "code",
   "execution_count": 6,
   "id": "73c83a16",
   "metadata": {},
   "outputs": [],
   "source": [
    "orig_db_base_ = Path(\"~/datasets/iris_datasets/CASIA/V1/CASIA-IrisV1/CASIA-IrisV1/CASIA Iris Image Database (version 1.0)\").expanduser()"
   ]
  },
  {
   "cell_type": "code",
   "execution_count": 7,
   "id": "24fc9fb3",
   "metadata": {},
   "outputs": [],
   "source": [
    "# connect with authentication and authdb as admin\n",
    "\n",
    "# con=MongoClient(DB_IP, username=\"admin\", password=\"Temppass@123\", authSource=\"admin\")\n"
   ]
  },
  {
   "cell_type": "code",
   "execution_count": 8,
   "id": "5251b053",
   "metadata": {},
   "outputs": [],
   "source": [
    "\n",
    "# coll=con[MONGO_DB_NAME][META_COLL]\n",
    "# # insert into db\n",
    "# desc = \"\"\"\n",
    "# CASIA Iris Image Database Version 1.0 (CASIA-IrisV1) includes 756 iris images\n",
    "# from 108 eyes. For each eye, 7 images are captured in two sessions with our\n",
    "# self-developed device CASIA close-up iris camera (Fig.1), where three samples are\n",
    "# collected in the first session (Fig.2(a)) and four in the second session (Fig.2(b)). All\n",
    "# images are stored as BMP format with resolution 320*280\n",
    "# In order to protect our IPR in the design of our iris camera (especially the NIR\n",
    "# illumination scheme), the pupil regions of all iris images in CASIA-IrisV1 were\n",
    "# automatically detected and replaced with a circular region of constant intensity to\n",
    "# mask out the specular reflections from the NIR illuminators. Such editing\n",
    "# clearly makes iris boundary detection much easier but has minimal or no effects on\n",
    "# other components of an iris recognition system, such as feature extraction and\n",
    "# classifier design.\n",
    "# It is suggested that you compare two samples from the same eye taken in different\n",
    "# sessions when you want to compute the within-class variability. For example, the iris\n",
    "# images in the first session can be employed as training dataset and those from the\n",
    "# second session are used for testing.\n",
    "# \"\"\"\n",
    "# metadata = {\n",
    "#     \"db_id\": DB_NAME,\n",
    "#     \"name\": \"CASIA-IrisV1\",\n",
    "#     \"desc\": desc,\n",
    "#     \"specs\":{\n",
    "#         \"num_images\": 756,\n",
    "#         \"num_people\": 108,\n",
    "#         \"num_eyes\": 108,\n",
    "#         \"num_samples_per_eye\": 7,\n",
    "#         \"num_sessions\": 2,\n",
    "#         \"image_format\": \"bmp\",\n",
    "#         \"image_resolution\": \"320x280\",\n",
    "#         \"width\": 320,\n",
    "#         \"height\": 280\n",
    "#     }\n",
    "# }\n",
    "# coll.insert_one(metadata)\n"
   ]
  },
  {
   "cell_type": "code",
   "execution_count": 9,
   "id": "d04f2a5c",
   "metadata": {},
   "outputs": [],
   "source": [
    "# create an unqiue index with db_id\n",
    "# coll.create_index([(\"db_id\", ASCENDING)], unique=True)"
   ]
  },
  {
   "cell_type": "code",
   "execution_count": 10,
   "id": "c8a1e592",
   "metadata": {},
   "outputs": [],
   "source": [
    "# class IRIS_DB:\n",
    "#     def __init__(self, mongo_db_name=MONGO_DB_NAME, mongo_colleciton=META_COLL):\n",
    "#         self.conn = MongoClient(DB_IP, username=\"admin\", password=\"Temppass@123\", authSource=\"admin\")[mongo_db_name][db_name]\n",
    "\n",
    "#     def insert_metadata(self, metadata):\n",
    "#         self.conn.insert_one(metadata)\n",
    "\n",
    "#     def find_metadata(self, db_id):\n",
    "#         return self.conn.find_one({\"db_id\": db_id})\n"
   ]
  },
  {
   "cell_type": "code",
   "execution_count": null,
   "id": "406252c0",
   "metadata": {},
   "outputs": [
    {
     "name": "stderr",
     "output_type": "stream",
     "text": [
      "2025-08-28 15:07:48,281 - lib - connect - INFO - Connecting to CASIA-V1 Collection\n",
      "2025-08-28 15:07:48,282 - lib - close - INFO - MongoDB client connection closed successfully.\n"
     ]
    },
    {
     "name": "stdout",
     "output_type": "stream",
     "text": [
      "Collection(Database(MongoClient(host=['localhost:27017'], document_class=dict, tz_aware=False, connect=True, authsource='admin'), 'iris-db'), 'CASIA-V1')\n"
     ]
    }
   ],
   "source": [
    "# Setup logging\n",
    "from lib import LoggerManager as lm, FileManager as fm, logging\n",
    "from functools import lru_cache\n",
    "from time import sleep\n",
    "# logger = LoggerManager.get_logger(name=Path(__file__).stem)\n",
    "lg = lm.get_logger(__name__)\n",
    "# set log level to info\n",
    "lg.setLevel(logging.INFO)\n",
    "\n",
    "class IRIS_DB:\n",
    "    \"\"\"\n",
    "    In: None\n",
    "    Out: IRIS_DB Object that can be used to connect to a particular db\n",
    "    param: \n",
    "        dbcoll - name of the db collection\n",
    "    \"\"\"\n",
    "\n",
    "    def __init__(\n",
    "        self, \n",
    "        db_ip=None, \n",
    "        mongo_db_name=None, \n",
    "        meta_coll=None\n",
    "        # db_coll=None, # this could be used to shortcircuit the process?\n",
    "        ) -> object:\n",
    "        self.db_ip = DB_IP if db_ip is None else db_ip\n",
    "        self.mongo_db_name = MONGO_DB_NAME if mongo_db_name is None else mongo_db_name\n",
    "        self.meta_coll = META_COLL if meta_coll is None else meta_coll\n",
    "        # self.db_coll = DB_COLL if db_coll is None else db_coll\n",
    "        ## get user:passwd from mongo_creds.txt file\n",
    "        user,passwd = fm.read_creds()\n",
    "        self._mongo_admin_user = user\n",
    "        self._mongo_admin_password = passwd\n",
    "        self.closing = False\n",
    "        \n",
    "    @property\n",
    "    @lru_cache(maxsize=None) # Caches the result after the first call\n",
    "    def mongo_client(self):\n",
    "        \"\"\"Lazily creates and returns the MongoClient instance.\"\"\"\n",
    "        if self.closing:\n",
    "            delattr(self, 'mongo_client')\n",
    "            return None\n",
    "        lg.debug(\"MongoDB client is not initialized. Creating client...\")\n",
    "        mc = MongoClient(\n",
    "            self.db_ip,\n",
    "            username=self._mongo_admin_user,\n",
    "            password=self._mongo_admin_password,\n",
    "            authSource=\"admin\"\n",
    "        )\n",
    "        lg.debug(\"MongoDB client created successfully.\")\n",
    "        return mc\n",
    "    \n",
    "    @property\n",
    "    @lru_cache(maxsize=None) # Caches the result after the first call\n",
    "    def mongo_conn(self):\n",
    "        \"\"\"Lazily creates and returns the Database object using the client.\"\"\"\n",
    "        if self.closing:\n",
    "            delattr(self, 'mongo_conn')\n",
    "            return None\n",
    "        lg.debug(\"Establishing MongoDB database connection...\")\n",
    "        # This will automatically trigger the mongo_client property if needed\n",
    "        conn = self.mongo_client[self.mongo_db_name]\n",
    "        lg.debug(\"MongoDB connection established successfully.\")\n",
    "        return conn\n",
    "    \n",
    "    @property\n",
    "    # @lru_cache(maxsize=None) # Caches the result after the first call\n",
    "    def avail_ds(self) -> set:\n",
    "        \"\"\"Lazily creates and returns the set of available iris-db using the mongo client.\"\"\"\n",
    "        lg.debug(\"Establishing MongoDB database connection...\")\n",
    "        # This will automatically trigger the mongo_client property if needed\n",
    "        avail_ds = {i['db_id'] for i in self.mongo_conn[self.meta_coll].find({}, {'_id': 0, 'db_id': 1})}\n",
    "        lg.debug(\"Fetched List of avail databases.\")\n",
    "        return avail_ds\n",
    "\n",
    "    \n",
    "\n",
    "    def get_avail_ds(self) -> set:\n",
    "        \"\"\"Get a set of available IRIS db_id.\"\"\"\n",
    "        return self.avail_ds\n",
    "    # alias\n",
    "    get_datasets = get_avail_ds\n",
    "\n",
    "    def __enter__(self):\n",
    "        \"\"\"Called when entering the 'with' statement.\"\"\"\n",
    "        lg.debug(\"Entering context...\")\n",
    "        return self # Return the instance to be used in the 'with' block\n",
    "    \n",
    "    def __exit__(self,*args):\n",
    "        \"\"\"Called when exiting the 'with' statement.\"\"\"\n",
    "        # This method is always called, ensuring the connection is closed.\n",
    "        self.close()\n",
    "        lg.debug(\"MongoClient connection closed.\")\n",
    "\n",
    "    def find_db(self, db_name, avail_ds=None, acc=0.4, count=1) -> str:\n",
    "        from difflib import get_close_matches\n",
    "        # 1. Create a mapping from lowercase name to original name.\n",
    "        mapping = {db.lower(): db for db in (avail_ds or self.avail_ds)}\n",
    "\n",
    "        # 2. Get the lowercase versions of all available DBs for matching.\n",
    "        lower_avail_ds = list(mapping.keys())\n",
    "        \n",
    "        # 3. Perform the match on the lowercase versions.\n",
    "        matches = get_close_matches(db_name.lower(), lower_avail_ds, n=count, cutoff=acc)\n",
    "\n",
    "        # 4. If a match is found, use the mapping to return the original name.\n",
    "        if matches:\n",
    "            if count > 1:\n",
    "                return [mapping[match] for match in matches]\n",
    "            return mapping[matches[0]]\n",
    "\n",
    "    def connect(self, ds_name, fuzzy=0.4) -> collection:\n",
    "        \"\"\"Will connect to the database into a given collection\"\"\"\n",
    "        try:\n",
    "            avail_ds = self.avail_ds\n",
    "        except Exception as e:\n",
    "            lg.error(f\"Error accessing available databases: {e}\")\n",
    "            return None\n",
    "        \n",
    "\n",
    "        if (closest_match := self.find(ds_name, avail_ds)):\n",
    "            self.ds_name = closest_match\n",
    "            lg.info(f\"Connecting to {self.ds_name} Collection\")\n",
    "            # self.ds_prefix=Path(DS_PREFIX)\n",
    "            # self.ds_path=self.ds_prefix/self.ds_name\n",
    "        else:\n",
    "            lg.info(f\"{ds_name} Collection Not found in available datasets. List: {avail_ds}\")\n",
    "        return self.mongo_conn[self.ds_name]\n",
    "    \n",
    "    \n",
    "    # def get_data_from_mongodb(dbName,query,proj):\n",
    "#     ds=Datasets()\n",
    "#     db=ds.connect(dbName)\n",
    "#     docs=list(db.find(query,proj))\n",
    "#     del ds\n",
    "#     return docs\n",
    "\n",
    "# def update_data_to_mongodb(dbName,docs):\n",
    "#     ds=Datasets()\n",
    "#     db=ds.connect(dbName)\n",
    "#     for doc in docs:\n",
    "#         db.update_one({'_id':doc['_id']},{'$set':doc})\n",
    "#     # db.update\n",
    "#     del ds\n",
    "    \n",
    "    \n",
    "    \n",
    "    def close(self):\n",
    "        \"\"\"Explicitly close the mongo client connection\"\"\"        \n",
    "        try:\n",
    "            self.closing = True\n",
    "            if hasattr(self, 'mongo_client'):\n",
    "                lg.debug(\"checking for mongoclient\")\n",
    "                self.mongo_client.close()\n",
    "                lg.info(\"MongoDB client connection closed successfully.\")\n",
    "            else:\n",
    "                lg.debug(\"MongoDB client was not initialized; no connection to close.\")\n",
    "        except Exception as e:\n",
    "            lg.error(f\"Error closing MongoDB client connection: {e}\")\n",
    "    \n",
    "    def __del__(self):\n",
    "        try:\n",
    "            if self.closing:\n",
    "                return\n",
    "            self.close()\n",
    "            lg.debug(\"MongoDB connection closed successfully.\")\n",
    "        except Exception as e:\n",
    "            lg.error(str(e))\n",
    "            \n",
    "# def get_data_from_mongodb(dbName,query,proj):\n",
    "#     ds=Datasets()\n",
    "#     db=ds.connect(dbName)\n",
    "#     docs=list(db.find(query,proj))\n",
    "#     del ds\n",
    "#     return docs\n",
    "\n",
    "# def update_data_to_mongodb(dbName,docs):\n",
    "#     ds=Datasets()\n",
    "#     db=ds.connect(dbName)\n",
    "#     for doc in docs:\n",
    "#         db.update_one({'_id':doc['_id']},{'$set':doc})\n",
    "#     # db.update\n",
    "#     del ds\n",
    "# db=IRIS_DB()\n",
    "\n",
    "# # print(db.connect('casiav3'))\n",
    "# # sleep(1)\n",
    "# db.close()"
   ]
  },
  {
   "cell_type": "code",
   "execution_count": null,
   "id": "9da78dc2",
   "metadata": {},
   "outputs": [
    {
     "name": "stderr",
     "output_type": "stream",
     "text": [
      "2025-08-28 14:35:23,648 - lib - read_creds - DEBUG - MongoDB credentials loaded successfully.\n",
      "2025-08-28 14:35:23,649 - lib - __enter__ - DEBUG - Entering context...\n",
      "2025-08-28 14:35:23,649 - lib - avail_db - DEBUG - Establishing MongoDB database connection...\n",
      "2025-08-28 14:35:23,649 - lib - mongo_conn - DEBUG - Establishing MongoDB database connection...\n",
      "2025-08-28 14:35:23,650 - lib - mongo_client - DEBUG - MongoDB client is not initialized. Creating client...\n",
      "2025-08-28 14:35:23,653 - lib - mongo_client - DEBUG - MongoDB client created successfully.\n",
      "2025-08-28 14:35:23,654 - lib - mongo_conn - DEBUG - MongoDB connection established successfully.\n",
      "2025-08-28 14:35:23,674 - lib - avail_db - DEBUG - MongoDB connection established successfully.\n",
      "2025-08-28 14:35:23,675 - lib - close - DEBUG - checking for mongoclient\n",
      "2025-08-28 14:35:23,676 - lib - close - DEBUG - MongoDB client connection closed successfully.\n",
      "2025-08-28 14:35:23,676 - lib - __exit__ - DEBUG - MongoClient connection closed.\n"
     ]
    },
    {
     "name": "stdout",
     "output_type": "stream",
     "text": [
      "{'CASIA-V1'}\n"
     ]
    }
   ],
   "source": [
    "with IRIS_DB() as db:\n",
    "    # Use the db object to interact with the database\n",
    "    print(db.list_ds())\n",
    "    # print(db.mongo_conn[db.meta_coll].find({}, {'_id': 0, 'db_id': 1}))\n",
    "    \n",
    "    pass"
   ]
  },
  {
   "cell_type": "code",
   "execution_count": null,
   "id": "ab1d291e",
   "metadata": {},
   "outputs": [],
   "source": []
  }
 ],
 "metadata": {
  "kernelspec": {
   "display_name": "iris-db",
   "language": "python",
   "name": "python3"
  },
  "language_info": {
   "codemirror_mode": {
    "name": "ipython",
    "version": 3
   },
   "file_extension": ".py",
   "mimetype": "text/x-python",
   "name": "python",
   "nbconvert_exporter": "python",
   "pygments_lexer": "ipython3",
   "version": "3.13.5"
  }
 },
 "nbformat": 4,
 "nbformat_minor": 5
}
