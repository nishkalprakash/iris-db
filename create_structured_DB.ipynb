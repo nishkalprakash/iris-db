{
 "cells": [
  {
   "cell_type": "markdown",
   "id": "065f6ac7",
   "metadata": {},
   "source": [
    "# Create a structured database for the Iris dataset"
   ]
  },
  {
   "cell_type": "markdown",
   "id": "16d787a8",
   "metadata": {},
   "source": [
    "### Common Imports"
   ]
  },
  {
   "cell_type": "code",
   "execution_count": 13,
   "id": "e399ccff",
   "metadata": {},
   "outputs": [],
   "source": [
    "import sys\n",
    "from pathlib import Path\n",
    "\n",
    "# TODO: move common imports to vars\n",
    "# sys.path.append(str(Path(__file__).parent))\n",
    "# from vars import *\n",
    "from sys import platform\n",
    "MONGO_DB_NAME = \"iris-db\"\n",
    "DB_IP = \"10.171.18.104\"\n",
    "\n",
    "if platform == \"linux\":\n",
    "    DB_IP = \"localhost\"\n",
    "\n",
    "from pymongo import MongoClient, collection"
   ]
  },
  {
   "cell_type": "code",
   "execution_count": 14,
   "id": "228ca1c1",
   "metadata": {},
   "outputs": [],
   "source": [
    "def ensure_exists(path):\n",
    "    if not path.exists():\n",
    "        path.mkdir(parents=True, exist_ok=True)"
   ]
  },
  {
   "cell_type": "code",
   "execution_count": 15,
   "id": "6dec3715",
   "metadata": {},
   "outputs": [],
   "source": [
    "DB_BASE_ = Path(\"~/datasets/iris-db/\").expanduser()\n",
    "ensure_exists(DB_BASE_)"
   ]
  },
  {
   "cell_type": "code",
   "execution_count": 16,
   "id": "0c3fc067",
   "metadata": {},
   "outputs": [],
   "source": [
    "META_COLL = \"meta\""
   ]
  },
  {
   "cell_type": "markdown",
   "id": "db6162f0",
   "metadata": {},
   "source": [
    "## WORKING FOR CASIA-V1"
   ]
  },
  {
   "cell_type": "markdown",
   "id": "12dbdd6f",
   "metadata": {},
   "source": [
    "### Copying to structured folder and adding to mongodb as well"
   ]
  },
  {
   "cell_type": "code",
   "execution_count": 17,
   "id": "03f4dad9",
   "metadata": {},
   "outputs": [],
   "source": [
    "# DB_BASE_\n",
    "DB_NAME = \"CASIA-V1\"\n",
    "DB_NAME_ = Path(DB_NAME)\n",
    "DB_PATH_ = DB_BASE_ / DB_NAME_\n",
    "ensure_exists(DB_PATH_)\n",
    "\n",
    "META_DB = \"meta-db\""
   ]
  },
  {
   "cell_type": "code",
   "execution_count": 18,
   "id": "73c83a16",
   "metadata": {},
   "outputs": [],
   "source": [
    "orig_db_base_ = Path(\"~/datasets/iris_datasets/CASIA/V1/CASIA-IrisV1/CASIA-IrisV1/CASIA Iris Image Database (version 1.0)\").expanduser()"
   ]
  },
  {
   "cell_type": "code",
   "execution_count": 19,
   "id": "24fc9fb3",
   "metadata": {},
   "outputs": [],
   "source": [
    "con=MongoClient(DB_IP)\n",
    "coll=con[MONGO_DB_NAME][META_COLL]"
   ]
  },
  {
   "cell_type": "code",
   "execution_count": null,
   "id": "d7f03a79",
   "metadata": {},
   "outputs": [],
   "source": [
    "# insert into db\n",
    "desc = \"\"\"\n",
    "CASIA Iris Image Database Version 1.0 (CASIA-IrisV1) includes 756 iris images\n",
    "from 108 eyes. For each eye, 7 images are captured in two sessions with our\n",
    "self-developed device CASIA close-up iris camera (Fig.1), where three samples are\n",
    "collected in the first session (Fig.2(a)) and four in the second session (Fig.2(b)). All\n",
    "images are stored as BMP format with resolution 320*280\n",
    "In order to protect our IPR in the design of our iris camera (especially the NIR\n",
    "illumination scheme), the pupil regions of all iris images in CASIA-IrisV1 were\n",
    "automatically detected and replaced with a circular region of constant intensity to\n",
    "mask out the specular reflections from the NIR illuminators. Such editing\n",
    "clearly makes iris boundary detection much easier but has minimal or no effects on\n",
    "other components of an iris recognition system, such as feature extraction and\n",
    "classifier design.\n",
    "It is suggested that you compare two samples from the same eye taken in different\n",
    "sessions when you want to compute the within-class variability. For example, the iris\n",
    "images in the first session can be employed as training dataset and those from the\n",
    "second session are used for testing.\n",
    "\"\"\"\n",
    "metadata = {\n",
    "    \"db_id\": DB_NAME,\n",
    "    \"name\": \"CASIA-IrisV1\",\n",
    "    \"desc\": desc,\n",
    "    \"specs\":{\n",
    "        \"num_images\": 756,\n",
    "        \"num_people\": 108,\n",
    "        \"num_eyes\": 108,\n",
    "        \"num_samples_per_eye\": 7,\n",
    "        \"num_sessions\": 2,\n",
    "        \"image_format\": \"bmp\",\n",
    "        \"image_resolution\": \"320x280\",\n",
    "        \"width\": 320,\n",
    "        \"height\": 280\n",
    "    }ŚŚ\n",
    "}\n",
    "coll.insert_one(metadata)"
   ]
  }
 ],
 "metadata": {
  "kernelspec": {
   "display_name": "iris-db",
   "language": "python",
   "name": "python3"
  },
  "language_info": {
   "codemirror_mode": {
    "name": "ipython",
    "version": 3
   },
   "file_extension": ".py",
   "mimetype": "text/x-python",
   "name": "python",
   "nbconvert_exporter": "python",
   "pygments_lexer": "ipython3",
   "version": "3.13.5"
  }
 },
 "nbformat": 4,
 "nbformat_minor": 5
}
