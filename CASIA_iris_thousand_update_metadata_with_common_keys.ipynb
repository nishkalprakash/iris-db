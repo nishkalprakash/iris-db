{
 "cells": [
  {
   "cell_type": "code",
   "execution_count": null,
   "metadata": {},
   "outputs": [],
   "source": [
    "from biolab import *\n",
    "from pathlib import Path\n",
    "\n",
    "DB = Path(\"~/datasets/\").expanduser()\n",
    "DB_BASE_ = DB / Path(\"iris_db/\")\n",
    "DS_ID = \"CASIA_iris_thousand\"\n",
    "DS_NAME_ = Path(DS_ID)\n",
    "DS_BASE_ = DB_BASE_ / DS_NAME_\n",
    "\n",
    "lg = LM.get_logger(name=__name__, level=\"INFO\")"
   ]
  },
  {
   "cell_type": "code",
   "execution_count": null,
   "metadata": {},
   "outputs": [],
   "source": [
    "# insert into db\n",
    "db = IrisDB(DS_ID)\n",
    "meta = IrisMeta()"
   ]
  },
  {
   "cell_type": "code",
   "execution_count": null,
   "metadata": {},
   "outputs": [],
   "source": [
    "meta_doc = meta.get_metadata(DS_ID)"
   ]
  },
  {
   "cell_type": "code",
   "execution_count": null,
   "metadata": {},
   "outputs": [],
   "source": [
    "# db.list_ds()\n",
    "meta_doc"
   ]
  },
  {
   "cell_type": "code",
   "execution_count": null,
   "metadata": {},
   "outputs": [],
   "source": [
    "img_doc = db.find_one({})\n",
    "# img_doc\n",
    "# img_doc['img_specs'].pop('res', None)\n",
    "# for tag in meta_doc['img_tags']:\n",
    "#     try:\n",
    "#         img_doc[tag] = {}\n",
    "#         img_doc[tag]['img_specs'] = img_doc.pop('img_specs')\n",
    "#     except KeyError as e:\n",
    "#         print(f\"KeyError for tag {tag}: {e}\")\n",
    "# img_doc['orig']['img_tags'] = meta_doc['img_tags']"
   ]
  },
  {
   "cell_type": "code",
   "execution_count": null,
   "metadata": {},
   "outputs": [],
   "source": [
    "img_doc"
   ]
  },
  {
   "cell_type": "code",
   "execution_count": null,
   "metadata": {},
   "outputs": [],
   "source": [
    "# print(db.coll.update_many({}, {'$unset': {f'injested_at': \"\"}}))"
   ]
  },
  {
   "cell_type": "code",
   "execution_count": null,
   "metadata": {},
   "outputs": [],
   "source": [
    "#set meta image specs from img_doc\n",
    "# img_doc['img_tags'] = meta_doc['img_tags']\n",
    "# for tag in meta_doc['img_tags']:\n",
    "#     try:\n",
    "#         print(meta.coll.update_one({'ds_id': DS_ID}, {\n",
    "#             '$set': {f'{tag}.img_specs': img_doc[tag]['img_specs']}}))\n",
    "#     except KeyError as e:\n",
    "#         print(f\"KeyError for tag {tag}: {e}\")"
   ]
  },
  {
   "cell_type": "code",
   "execution_count": null,
   "metadata": {},
   "outputs": [],
   "source": [
    "# for tag in ['norm_def', 'mask_irisseg']:\n",
    "#     print(meta.coll.update_one({'ds_id': DS_ID}, {'$unset': {f'{tag}': \"\"}}))"
   ]
  },
  {
   "cell_type": "code",
   "execution_count": null,
   "metadata": {},
   "outputs": [],
   "source": [
    "meta_doc =  meta.get_metadata(DS_ID)\n",
    "meta_doc"
   ]
  },
  {
   "cell_type": "code",
   "execution_count": null,
   "metadata": {},
   "outputs": [],
   "source": [
    "# drop index\n",
    "# db.coll.drop_index('paths.rel_path__1')\n",
    "# db.coll.drop_index('paths.path__1')"
   ]
  },
  {
   "cell_type": "code",
   "execution_count": null,
   "metadata": {},
   "outputs": [],
   "source": [
    "# db.coll.drop_index('folder_tags_1')"
   ]
  },
  {
   "cell_type": "code",
   "execution_count": null,
   "metadata": {},
   "outputs": [],
   "source": [
    "# db.coll.create_index('img_tags')"
   ]
  },
  {
   "cell_type": "code",
   "execution_count": null,
   "metadata": {},
   "outputs": [],
   "source": [
    "db.coll.update_many({}, {'$set': {'img_tags': ['orig']}})"
   ]
  },
  {
   "cell_type": "code",
   "execution_count": null,
   "metadata": {},
   "outputs": [],
   "source": [
    "from tqdm import tqdm\n",
    "for doc in tqdm(list(db.coll.find({}))):\n",
    "    # rename dic key\n",
    "    doc['sample_id_person'] = doc.pop('person_sample_id')  # rename person_sample_id to sample_id_person\n",
    "    # remove key file_name from doc\n",
    "    doc.pop('file_name')\n",
    "    doc.pop('img_specs')\n",
    "    doc.pop('paths')\n",
    "    orig_=doc.pop('orig_paths')\n",
    "    doc['orig'] = {\n",
    "        'old_rel_': orig_['rel_path_'],\n",
    "    }\n",
    "\n",
    "    # delete the doc first\n",
    "    db.coll.delete_one({'_id': doc['_id']})\n",
    "    # insert the modified doc\n",
    "    db.coll.insert_one(doc)\n",
    "    # lg.info(f\"Updated {doc['image_id']}\")\n",
    "\n"
   ]
  },
  {
   "cell_type": "code",
   "execution_count": null,
   "metadata": {},
   "outputs": [],
   "source": [
    "# for tag in img_doc['img_tags']:\n",
    "    # print(db.coll.update_many({}, {'$unset': {f'{tag}.injested_at': \"\"}}))\n"
   ]
  },
  {
   "cell_type": "code",
   "execution_count": null,
   "metadata": {},
   "outputs": [],
   "source": [
    "# img_doc['orig'] = {\"img_specs\": {\n",
    "    # \"ext\": \".bmp\",\n",
    "    # \"width\": 320,\n",
    "    # \"height\": 240\n",
    "# }}\n",
    "# for tag in meta_doc['img_tags']:\n",
    "    # try:\n",
    "        # print(meta.coll.update_one({'ds_id': DS_ID}, {\n",
    "            #   '$set': {f'{tag}.img_specs': img_doc[tag]['img_specs']}}))\n",
    "    # except KeyError as e:\n",
    "        # print(f\"KeyError for tag {tag}: {e}\")"
   ]
  },
  {
   "cell_type": "code",
   "execution_count": null,
   "metadata": {},
   "outputs": [],
   "source": [
    "# for tag in img_doc['img_tags']:\n",
    "    # print(db.coll.update_many({}, {'$unset': {f'{tag}.img_specs': \"\"}}))"
   ]
  },
  {
   "cell_type": "code",
   "execution_count": null,
   "metadata": {},
   "outputs": [],
   "source": [
    "# for img_ in old_images_list[1:]:\n",
    "#     # name = YYY/NN_E.bmp\n",
    "#     #\n",
    "#     img_stem = img_.stem.split('_')  #\n",
    "#     person_id, sample_id, eye = int(img_.parent.name), int(img_stem[0]), img_stem[1]\n",
    "#     # if person_id == 0:\n",
    "#         # person_id = 1000\n",
    "#     eye_id = f\"{person_id}_{eye}\"\n",
    "#     image_id = f\"{eye_id}_{sample_id}\"\n",
    "#     doc = {\n",
    "#         'image_id': image_id,\n",
    "#         'orig':\n",
    "#             {\n",
    "#                 'old_rel_': str(img_.relative_to(old_base_)),\n",
    "#                 'injested_at': datetime.now()\n",
    "#             },\n",
    "#     }\n",
    "#     db.update(doc,key='image_id')\n",
    "#     lg.info(f\"Updated {image_id}\")\n",
    "\n",
    "# db.close()"
   ]
  },
  {
   "cell_type": "code",
   "execution_count": null,
   "metadata": {},
   "outputs": [],
   "source": [
    "db.get_stats('orig')"
   ]
  },
  {
   "cell_type": "code",
   "execution_count": null,
   "metadata": {},
   "outputs": [],
   "source": [
    "# db.get_tag_data('orig')\n",
    "for tag in meta_doc['img_tags']:\n",
    "    stats= db.get_stats(tag)\n",
    "    # append to {tag}.stats\n",
    "    print(meta.coll.update_one({'ds_id': DS_ID}, {'$set': {f'{tag}.stats': stats}}))"
   ]
  },
  {
   "cell_type": "code",
   "execution_count": null,
   "metadata": {},
   "outputs": [],
   "source": [
    "db.close()\n",
    "meta.close()"
   ]
  },
  {
   "cell_type": "markdown",
   "metadata": {},
   "source": [
    "### Export all DB to jsonl file"
   ]
  },
  {
   "cell_type": "code",
   "execution_count": null,
   "metadata": {},
   "outputs": [
    {
     "name": "stderr",
     "output_type": "stream",
     "text": [
      "2025-09-17 07:22:54,980 - INFO - connect - INFO - Connecting to meta Collection\n"
     ]
    },
    {
     "name": "stdout",
     "output_type": "stream",
     "text": [
      "Found matches for meta: meta\n"
     ]
    },
    {
     "data": {
      "text/plain": [
       "Collection(Database(MongoClient(host=['localhost:27017'], document_class=dict, tz_aware=False, connect=True, authsource='admin'), 'iris_db'), 'meta')"
      ]
     },
     "execution_count": 8,
     "metadata": {},
     "output_type": "execute_result"
    }
   ],
   "source": [
    "from biolab import *\n",
    "meta = IrisMeta()\n",
    "# ds_list=meta.list_ds()\n",
    "# meta.coll"
   ]
  },
  {
   "cell_type": "code",
   "execution_count": null,
   "metadata": {},
   "outputs": [
    {
     "name": "stderr",
     "output_type": "stream",
     "text": [
      "2025-09-17 07:23:06,511 - INFO - export_to_jsonl - INFO - Exported collection meta to /home/nishkal/datasets/iris_db/meta/meta_20250917_072306.jsonl\n"
     ]
    },
    {
     "data": {
      "text/plain": [
       "PosixPath('/home/nishkal/datasets/iris_db/meta/meta_20250917_072306.jsonl')"
      ]
     },
     "execution_count": 9,
     "metadata": {},
     "output_type": "execute_result"
    }
   ],
   "source": [
    "# meta.export_to_jsonl()"
   ]
  },
  {
   "cell_type": "code",
   "execution_count": 10,
   "metadata": {},
   "outputs": [
    {
     "name": "stderr",
     "output_type": "stream",
     "text": [
      "2025-09-17 07:26:36,457 - INFO - close - INFO - MongoDB client connection closed successfully.\n"
     ]
    }
   ],
   "source": [
    "meta.close()"
   ]
  },
  {
   "cell_type": "code",
   "execution_count": null,
   "metadata": {},
   "outputs": [
    {
     "data": {
      "text/plain": [
       "{'CASIA_iris_thousand', 'CASIA_v1', 'IITD_v1'}"
      ]
     },
     "execution_count": 2,
     "metadata": {},
     "output_type": "execute_result"
    }
   ],
   "source": [
    "# ds_list"
   ]
  },
  {
   "cell_type": "code",
   "execution_count": null,
   "metadata": {},
   "outputs": [
    {
     "name": "stderr",
     "output_type": "stream",
     "text": [
      "2025-09-17 07:20:09,328 - INFO - close - INFO - MongoDB client connection closed successfully.\n",
      "2025-09-17 07:20:09,329 - INFO - close - INFO - MongoDB client connection closed successfully.\n"
     ]
    }
   ],
   "source": [
    "# ds.close()\n",
    "# meta.close()"
   ]
  },
  {
   "cell_type": "code",
   "execution_count": null,
   "metadata": {},
   "outputs": [
    {
     "name": "stderr",
     "output_type": "stream",
     "text": [
      "2025-09-17 07:21:02,661 - INFO - connect - INFO - Connecting to IITD_v1 Collection\n",
      "2025-09-17 07:21:02,686 - INFO - export_to_jsonl - INFO - Exported collection IITD_v1 to /home/nishkal/datasets/iris_db/IITD_v1/IITD_v1_20250917_072102.jsonl\n",
      "2025-09-17 07:21:02,686 - INFO - close - INFO - MongoDB client connection closed successfully.\n",
      "2025-09-17 07:21:02,692 - INFO - connect - INFO - Connecting to CASIA_v1 Collection\n",
      "2025-09-17 07:21:02,700 - INFO - export_to_jsonl - INFO - Exported collection CASIA_v1 to /home/nishkal/datasets/iris_db/CASIA_v1/CASIA_v1_20250917_072102.jsonl\n",
      "2025-09-17 07:21:02,701 - INFO - close - INFO - MongoDB client connection closed successfully.\n",
      "2025-09-17 07:21:02,714 - INFO - connect - INFO - Connecting to CASIA_iris_thousand Collection\n",
      "2025-09-17 07:21:02,846 - INFO - export_to_jsonl - INFO - Exported collection CASIA_iris_thousand to /home/nishkal/datasets/iris_db/CASIA_iris_thousand/CASIA_iris_thousand_20250917_072102.jsonl\n",
      "2025-09-17 07:21:02,847 - INFO - close - INFO - MongoDB client connection closed successfully.\n"
     ]
    },
    {
     "name": "stdout",
     "output_type": "stream",
     "text": [
      "Found matches for IITD_v1: IITD_v1\n",
      "Found matches for CASIA_v1: CASIA_v1\n",
      "Found matches for CASIA_iris_thousand: CASIA_iris_thousand\n"
     ]
    }
   ],
   "source": [
    "# for ds_id in ds_list:\n",
    "#     with IrisDB(ds_id) as ds:\n",
    "#         ds.export_to_jsonl()\n",
    "        \n",
    "# ds = IrisDB()\n",
    "# ds.list_ds()"
   ]
  }
 ],
 "metadata": {
  "kernelspec": {
   "display_name": "iris-db",
   "language": "python",
   "name": "python3"
  },
  "language_info": {
   "codemirror_mode": {
    "name": "ipython",
    "version": 3
   },
   "file_extension": ".py",
   "mimetype": "text/x-python",
   "name": "python",
   "nbconvert_exporter": "python",
   "pygments_lexer": "ipython3",
   "version": "3.13.5"
  }
 },
 "nbformat": 4,
 "nbformat_minor": 2
}
