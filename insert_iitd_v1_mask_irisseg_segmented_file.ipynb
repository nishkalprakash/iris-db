{
 "cells": [
  {
   "cell_type": "code",
   "execution_count": 2,
   "metadata": {},
   "outputs": [],
   "source": [
    "from biolab import *\n",
    "from datetime import datetime\n",
    "from pathlib import Path\n",
    "from pymongo import ASCENDING\n",
    "\n",
    "DB = Path(\"~/datasets/\").expanduser()\n",
    "DB_BASE_ = DB / Path(\"iris_db/\")\n",
    "DS_ID = \"IITD_v1\"\n",
    "DS_NAME_ = Path(DS_ID)\n",
    "DS_BASE_ = DB_BASE_ / DS_NAME_\n",
    "from lib import FileManager as FM\n",
    "from lib import LoggerManager as LM\n",
    "lg = LM.get_logger(name=__name__, level=\"INFO\")\n",
    "fm = FM()\n",
    "\n",
    "fm.ensure_exists(DS_BASE_)\n"
   ]
  },
  {
   "cell_type": "code",
   "execution_count": 3,
   "metadata": {},
   "outputs": [],
   "source": [
    "# BASE_ = DB / \"iris_datasets/\"\n",
    "ORIG_DB_BASE_ = Path(\"~/alam/iris_normalization/segmented_iitd_bmp\").expanduser()\n"
   ]
  },
  {
   "cell_type": "code",
   "execution_count": 5,
   "metadata": {},
   "outputs": [],
   "source": [
    "new_img_tag = \"seg_irisseg\"\n",
    "\"\"\"\n",
    "Iris segmentated images after applying from mask from IRISSEG-EP dataset\n",
    "\"\"\"\n",
    "new_img_tag_info = {\n",
    "    'ds_id': DS_ID,\n",
    "    new_img_tag: {\n",
    "        \"info\": \"Iris segmentated images after applying from mask from IRISSEG-EP dataset\",\n",
    "        \"img_specs\": {\n",
    "            \"ext\": \".bmp\",\n",
    "            \"width\": 320,\n",
    "            \"height\": 240\n",
    "        },\n",
    "        \"doc\": \"https://docs.google.com/document/d/1N_ninklrJYcEyG0EUuSx_KmBeHvnOYrtBTEw1yMZXNM/edit?tab=t.i0h2chnldv7h\",\n",
    "        \"old_base_\": str(ORIG_DB_BASE_.as_posix()),\n",
    "        \"git\": \"https://github.com/nishkalprakash/alam_iris_normalize/blob/master/iitd_iris_extration.ipynb\"\n",
    "    }\n",
    "}\n"
   ]
  },
  {
   "cell_type": "code",
   "execution_count": 6,
   "metadata": {},
   "outputs": [
    {
     "name": "stdout",
     "output_type": "stream",
     "text": [
      "Found matches for meta: meta\n",
      "UpdateResult({'n': 1, 'nModified': 1, 'ok': 1.0, 'updatedExisting': True}, acknowledged=True)\n",
      "UpdateResult({'n': 1, 'nModified': 0, 'ok': 1.0, 'updatedExisting': True}, acknowledged=True)\n",
      "{'IITD_v1', 'CASIA_iris_thousand', 'CASIA_v1'}\n"
     ]
    }
   ],
   "source": [
    "\n",
    "with IrisMeta() as meta:\n",
    "    # meta.insert_new_img_tag(new_img_tag, new_img_tag_info)\n",
    "    print(meta.update(new_img_tag_info))\n",
    "    print(meta.coll.update_one(\n",
    "        {'ds_id': DS_ID},\n",
    "        {'$unset': {f\"{new_img_tag}.orig_base_path\": \"\"}}\n",
    "    ))\n",
    "    print(meta.list_ds())\n",
    "\n",
    "\n"
   ]
  },
  {
   "cell_type": "code",
   "execution_count": 4,
   "metadata": {},
   "outputs": [],
   "source": [
    "# images = sorted(list(ORIG_DB_BASE_.rglob(f\"*{new_img_tag_info[new_img_tag]['img_specs']['ext']}\")))\n",
    "# print(len(images))"
   ]
  },
  {
   "cell_type": "code",
   "execution_count": 5,
   "metadata": {},
   "outputs": [],
   "source": [
    "# # from PIL import Image\n",
    "# ds_id = DS_ID\n",
    "# db = IrisDB(ds_id=DS_ID)\n",
    "# import re\n",
    "# from tqdm import tqdm\n",
    "# docs=[]\n",
    "# for img_ in tqdm(images):\n",
    "#     ext = img_.suffix\n",
    "#     # name = OperatorA_001-A_02\n",
    "#     #             \n",
    "#     # pattern = r'^(\\d+)_[LR]_(\\d+)$'  # Regex pattern to match the filename structure\n",
    "#     # match = re.match(pattern, img_.stem)\n",
    "#     # if not match:\n",
    "#         # lg.warning(f\"Filename {img_.name} does not match the expected pattern.\")\n",
    "#         # continue\n",
    "#     # person_id, eye, sample_id = map(str,map(int, match.groups()))\n",
    "#     image_id = img_.stem\n",
    "#     doc = db.find_one({'image_id': image_id},{\n",
    "#         'image_id': 1,\n",
    "#         'eye_id': 1,\n",
    "#         'img_tags':1, \n",
    "#     })\n",
    "#     new_filename_ = Path(f\"{image_id}{ext}\")\n",
    "#     path_ = DS_BASE_ / new_img_tag/ doc['eye_id'] / new_filename_\n",
    "#     # img=Image.open(img_)\n",
    "#     # w,h = img.size\n",
    "#     # img_specs = {\n",
    "#         # 'ext': ext,\n",
    "#         # 'width': w,\n",
    "#         # 'height': h,\n",
    "#     # }\n",
    "#     doc[new_img_tag] = {\n",
    "#         'orig_rel_path': str(img_.relative_to(ORIG_DB_BASE_)),\n",
    "#     }\n",
    "#     # if new_img_tag not in doc['img_tags']:\n",
    "#     try:\n",
    "#         if new_img_tag not in doc['img_tags']:\n",
    "#             doc['img_tags'].append(new_img_tag)\n",
    "#     except KeyError:\n",
    "#         doc['img_tags'] = ['orig',new_img_tag]\n",
    "\n",
    "#     db.update(doc)\n",
    "#     fm.copy_file(img_, path_)\n",
    "\n",
    "# # db.insert(docs)\n",
    "# db.close()"
   ]
  },
  {
   "cell_type": "code",
   "execution_count": 6,
   "metadata": {},
   "outputs": [
    {
     "name": "stdout",
     "output_type": "stream",
     "text": [
      "Found matches for IITD_v1: IITD_v1\n",
      "{'num_images': 2240, 'num_people': 224, 'num_eyes': 435, 'num_eyes_per_person_count': {'1': 13, '2': 211}, 'num_samples_per_eye_count': {'5': 416, '10': 13, '6': 3, '4': 3}, 'num_sessions': 1}\n"
     ]
    }
   ],
   "source": [
    "with IrisDB(ds_id=DS_ID) as db:\n",
    "    print(db.get_stats(new_img_tag))"
   ]
  },
  {
   "cell_type": "code",
   "execution_count": null,
   "metadata": {},
   "outputs": [],
   "source": []
  },
  {
   "cell_type": "code",
   "execution_count": 11,
   "metadata": {},
   "outputs": [
    {
     "name": "stdout",
     "output_type": "stream",
     "text": [
      "Found matches for meta: meta\n",
      "Found matches for IITD_v1: IITD_v1\n",
      "UpdateResult({'n': 1, 'nModified': 1, 'ok': 1.0, 'updatedExisting': True}, acknowledged=True)\n",
      "UpdateResult({'n': 1, 'nModified': 0, 'ok': 1.0, 'updatedExisting': True}, acknowledged=True)\n",
      "UpdateResult({'n': 1, 'nModified': 0, 'ok': 1.0, 'updatedExisting': True}, acknowledged=True)\n",
      "UpdateResult({'n': 1, 'nModified': 0, 'ok': 1.0, 'updatedExisting': True}, acknowledged=True)\n",
      "Found matches for CASIA_v1: CASIA_v1\n",
      "UpdateResult({'n': 1, 'nModified': 1, 'ok': 1.0, 'updatedExisting': True}, acknowledged=True)\n",
      "Found matches for CASIA_iris_thousand: CASIA_iris_thousand\n",
      "UpdateResult({'n': 1, 'nModified': 1, 'ok': 1.0, 'updatedExisting': True}, acknowledged=True)\n"
     ]
    }
   ],
   "source": [
    "# db.get_tag_data('orig')\n",
    "\n",
    "with IrisMeta() as meta:\n",
    "    for ds_id in meta.list_ds():\n",
    "        with IrisDB(ds_id=ds_id) as db:\n",
    "            for tag in meta.find_one({'ds_id': ds_id})['img_tags']:\n",
    "                stats= db.get_stats(tag)\n",
    "                # append to {tag}.stats\n",
    "                print(meta.coll.update_one({'ds_id': ds_id}, {'$set': {f'{tag}.stats': stats}}))"
   ]
  }
 ],
 "metadata": {
  "kernelspec": {
   "display_name": "iris-db",
   "language": "python",
   "name": "python3"
  },
  "language_info": {
   "codemirror_mode": {
    "name": "ipython",
    "version": 3
   },
   "file_extension": ".py",
   "mimetype": "text/x-python",
   "name": "python",
   "nbconvert_exporter": "python",
   "pygments_lexer": "ipython3",
   "version": "3.13.5"
  }
 },
 "nbformat": 4,
 "nbformat_minor": 2
}
